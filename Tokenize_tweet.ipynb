{
  "nbformat": 4,
  "nbformat_minor": 0,
  "metadata": {
    "colab": {
      "name": "tweet_tokenize_artigo.ipynb",
      "version": "0.3.2",
      "provenance": [],
      "include_colab_link": true
    },
    "language_info": {
      "codemirror_mode": {
        "name": "ipython",
        "version": 3
      },
      "file_extension": ".py",
      "mimetype": "text/x-python",
      "name": "python",
      "nbconvert_exporter": "python",
      "pygments_lexer": "ipython3",
      "version": "3.6.5"
    },
    "kernelspec": {
      "display_name": "Python 3",
      "language": "python",
      "name": "python3"
    }
  },
  "cells": [
    {
      "cell_type": "markdown",
      "metadata": {
        "id": "view-in-github",
        "colab_type": "text"
      },
      "source": [
        "<a href=\"https://colab.research.google.com/github/DaviRamos/NLP/blob/master/Tokenize_tweet.ipynb\" target=\"_parent\"><img src=\"https://colab.research.google.com/assets/colab-badge.svg\" alt=\"Open In Colab\"/></a>"
      ]
    },
    {
      "cell_type": "markdown",
      "metadata": {
        "id": "pqudGzkceg_b",
        "colab_type": "text"
      },
      "source": [
        "## Instale o nltk"
      ]
    },
    {
      "cell_type": "code",
      "metadata": {
        "id": "8qRsOx_qeg_c",
        "colab_type": "code",
        "colab": {
          "base_uri": "https://localhost:8080/",
          "height": 51
        },
        "outputId": "23676bbe-8233-44b8-f90c-2d7c9fd856a7"
      },
      "source": [
        "!pip install nltk"
      ],
      "execution_count": 1,
      "outputs": [
        {
          "output_type": "stream",
          "text": [
            "Requirement already satisfied: nltk in /usr/local/lib/python3.6/dist-packages (3.2.5)\n",
            "Requirement already satisfied: six in /usr/local/lib/python3.6/dist-packages (from nltk) (1.12.0)\n"
          ],
          "name": "stdout"
        }
      ]
    },
    {
      "cell_type": "code",
      "metadata": {
        "id": "IPZ_ZkLbeg_k",
        "colab_type": "code",
        "colab": {
          "base_uri": "https://localhost:8080/",
          "height": 68
        },
        "outputId": "8f45fead-9a6f-4648-bf5b-cc4eaf17b179"
      },
      "source": [
        "import nltk\n",
        "nltk.download('punkt')"
      ],
      "execution_count": 4,
      "outputs": [
        {
          "output_type": "stream",
          "text": [
            "[nltk_data] Downloading package punkt to /root/nltk_data...\n",
            "[nltk_data]   Unzipping tokenizers/punkt.zip.\n"
          ],
          "name": "stdout"
        },
        {
          "output_type": "execute_result",
          "data": {
            "text/plain": [
              "True"
            ]
          },
          "metadata": {
            "tags": []
          },
          "execution_count": 4
        }
      ]
    },
    {
      "cell_type": "code",
      "metadata": {
        "id": "S-iE9b2eeg_o",
        "colab_type": "code",
        "colab": {
          "base_uri": "https://localhost:8080/",
          "height": 34
        },
        "outputId": "cc91554c-ccd6-4cf0-d896-7899e2cbb139"
      },
      "source": [
        "import nltk\n",
        "nltk.word_tokenize('Data Science é muito legal')"
      ],
      "execution_count": 5,
      "outputs": [
        {
          "output_type": "execute_result",
          "data": {
            "text/plain": [
              "['Data', 'Science', 'é', 'muito', 'legal']"
            ]
          },
          "metadata": {
            "tags": []
          },
          "execution_count": 5
        }
      ]
    },
    {
      "cell_type": "markdown",
      "metadata": {
        "id": "F1GHJWXveg_x",
        "colab_type": "text"
      },
      "source": [
        "## Trabalhando com Tweets"
      ]
    },
    {
      "cell_type": "code",
      "metadata": {
        "id": "FcrYsWhbeg_y",
        "colab_type": "code",
        "colab": {}
      },
      "source": [
        "tweet = \"@rodrigofs10: Eu gostei muitoooooooooo desse filme! #movie #minerandodados #likeee :-) :-P <3\""
      ],
      "execution_count": 0,
      "outputs": []
    },
    {
      "cell_type": "code",
      "metadata": {
        "scrolled": true,
        "id": "8Y-q3FI3eg_1",
        "colab_type": "code",
        "colab": {
          "base_uri": "https://localhost:8080/",
          "height": 391
        },
        "outputId": "1bf590c5-a884-4edf-fa6d-ff9ec8e4e6d4"
      },
      "source": [
        "nltk.word_tokenize(tweet)"
      ],
      "execution_count": 7,
      "outputs": [
        {
          "output_type": "execute_result",
          "data": {
            "text/plain": [
              "['@',\n",
              " 'rodrigofs10',\n",
              " ':',\n",
              " 'Eu',\n",
              " 'gostei',\n",
              " 'muitoooooooooo',\n",
              " 'desse',\n",
              " 'filme',\n",
              " '!',\n",
              " '#',\n",
              " 'movie',\n",
              " '#',\n",
              " 'minerandodados',\n",
              " '#',\n",
              " 'likeee',\n",
              " ':',\n",
              " '-',\n",
              " ')',\n",
              " ':',\n",
              " '-P',\n",
              " '<',\n",
              " '3']"
            ]
          },
          "metadata": {
            "tags": []
          },
          "execution_count": 7
        }
      ]
    },
    {
      "cell_type": "markdown",
      "metadata": {
        "id": "9qBKMKQ1eg_4",
        "colab_type": "text"
      },
      "source": [
        "## Usando o TweetTokenizer()"
      ]
    },
    {
      "cell_type": "code",
      "metadata": {
        "id": "K5sWtkN5eg_4",
        "colab_type": "code",
        "colab": {}
      },
      "source": [
        "from nltk.tokenize import TweetTokenizer"
      ],
      "execution_count": 0,
      "outputs": []
    },
    {
      "cell_type": "code",
      "metadata": {
        "id": "jQnkA61deg_7",
        "colab_type": "code",
        "colab": {}
      },
      "source": [
        "tweet_tokenizer = TweetTokenizer()"
      ],
      "execution_count": 0,
      "outputs": []
    },
    {
      "cell_type": "code",
      "metadata": {
        "id": "apeh-LGQehAD",
        "colab_type": "code",
        "colab": {
          "base_uri": "https://localhost:8080/",
          "height": 255
        },
        "outputId": "36d12987-3178-451a-b399-bc7465bbb786"
      },
      "source": [
        "tweet_tokenizer.tokenize(tweet)"
      ],
      "execution_count": 11,
      "outputs": [
        {
          "output_type": "execute_result",
          "data": {
            "text/plain": [
              "['@rodrigofs10',\n",
              " ':',\n",
              " 'Eu',\n",
              " 'gostei',\n",
              " 'muitoooooooooo',\n",
              " 'desse',\n",
              " 'filme',\n",
              " '!',\n",
              " '#movie',\n",
              " '#minerandodados',\n",
              " '#likeee',\n",
              " ':-)',\n",
              " ':-P',\n",
              " '<3']"
            ]
          },
          "metadata": {
            "tags": []
          },
          "execution_count": 11
        }
      ]
    },
    {
      "cell_type": "markdown",
      "metadata": {
        "id": "YRMkLsxRehAT",
        "colab_type": "text"
      },
      "source": [
        "## Pré-processamento nos Dados"
      ]
    },
    {
      "cell_type": "code",
      "metadata": {
        "id": "_pWAbP-iehAU",
        "colab_type": "code",
        "colab": {}
      },
      "source": [
        "tweet_tokenizer = TweetTokenizer(strip_handles=True, \n",
        "                                 reduce_len=True, \n",
        "                                 preserve_case=False)"
      ],
      "execution_count": 0,
      "outputs": []
    },
    {
      "cell_type": "code",
      "metadata": {
        "id": "_HTyaNPkehAW",
        "colab_type": "code",
        "colab": {
          "base_uri": "https://localhost:8080/",
          "height": 238
        },
        "outputId": "c9fa013d-dca9-4296-c3ca-19a6e4b58600"
      },
      "source": [
        "tweet_tokenizer.tokenize(tweet)"
      ],
      "execution_count": 13,
      "outputs": [
        {
          "output_type": "execute_result",
          "data": {
            "text/plain": [
              "[':',\n",
              " 'eu',\n",
              " 'gostei',\n",
              " 'muitooo',\n",
              " 'desse',\n",
              " 'filme',\n",
              " '!',\n",
              " '#movie',\n",
              " '#minerandodados',\n",
              " '#likeee',\n",
              " ':-)',\n",
              " ':-P',\n",
              " '<3']"
            ]
          },
          "metadata": {
            "tags": []
          },
          "execution_count": 13
        }
      ]
    }
  ]
}