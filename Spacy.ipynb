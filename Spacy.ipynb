{
  "nbformat": 4,
  "nbformat_minor": 0,
  "metadata": {
    "colab": {
      "name": "Spacy.ipynb",
      "version": "0.3.2",
      "provenance": [],
      "collapsed_sections": [],
      "include_colab_link": true
    },
    "kernelspec": {
      "name": "python3",
      "display_name": "Python 3"
    }
  },
  "cells": [
    {
      "cell_type": "markdown",
      "metadata": {
        "id": "view-in-github",
        "colab_type": "text"
      },
      "source": [
        "<a href=\"https://colab.research.google.com/github/DaviRamos/NLP/blob/master/Spacy.ipynb\" target=\"_parent\"><img src=\"https://colab.research.google.com/assets/colab-badge.svg\" alt=\"Open In Colab\"/></a>"
      ]
    },
    {
      "cell_type": "markdown",
      "metadata": {
        "id": "DyoKewCao1Dl",
        "colab_type": "text"
      },
      "source": [
        "Testes SPACY"
      ]
    },
    {
      "cell_type": "code",
      "metadata": {
        "id": "BPU9xBgEo1eb",
        "colab_type": "code",
        "outputId": "1051145b-5bd4-4701-f68b-7145c3a2debc",
        "colab": {
          "base_uri": "https://localhost:8080/",
          "height": 326
        }
      },
      "source": [
        "pip install -U Spacy"
      ],
      "execution_count": 1,
      "outputs": [
        {
          "output_type": "stream",
          "text": [
            "Requirement already up-to-date: Spacy in /usr/local/lib/python3.6/dist-packages (2.1.4)\n",
            "Requirement already satisfied, skipping upgrade: numpy>=1.15.0 in /usr/local/lib/python3.6/dist-packages (from Spacy) (1.16.4)\n",
            "Requirement already satisfied, skipping upgrade: cymem<2.1.0,>=2.0.2 in /usr/local/lib/python3.6/dist-packages (from Spacy) (2.0.2)\n",
            "Requirement already satisfied, skipping upgrade: thinc<7.1.0,>=7.0.2 in /usr/local/lib/python3.6/dist-packages (from Spacy) (7.0.4)\n",
            "Requirement already satisfied, skipping upgrade: preshed<2.1.0,>=2.0.1 in /usr/local/lib/python3.6/dist-packages (from Spacy) (2.0.1)\n",
            "Requirement already satisfied, skipping upgrade: plac<1.0.0,>=0.9.6 in /usr/local/lib/python3.6/dist-packages (from Spacy) (0.9.6)\n",
            "Requirement already satisfied, skipping upgrade: jsonschema<3.1.0,>=2.6.0 in /usr/local/lib/python3.6/dist-packages (from Spacy) (2.6.0)\n",
            "Requirement already satisfied, skipping upgrade: requests<3.0.0,>=2.13.0 in /usr/local/lib/python3.6/dist-packages (from Spacy) (2.21.0)\n",
            "Requirement already satisfied, skipping upgrade: srsly<1.1.0,>=0.0.5 in /usr/local/lib/python3.6/dist-packages (from Spacy) (0.0.7)\n",
            "Requirement already satisfied, skipping upgrade: blis<0.3.0,>=0.2.2 in /usr/local/lib/python3.6/dist-packages (from Spacy) (0.2.4)\n",
            "Requirement already satisfied, skipping upgrade: wasabi<1.1.0,>=0.2.0 in /usr/local/lib/python3.6/dist-packages (from Spacy) (0.2.2)\n",
            "Requirement already satisfied, skipping upgrade: murmurhash<1.1.0,>=0.28.0 in /usr/local/lib/python3.6/dist-packages (from Spacy) (1.0.2)\n",
            "Requirement already satisfied, skipping upgrade: tqdm<5.0.0,>=4.10.0 in /usr/local/lib/python3.6/dist-packages (from thinc<7.1.0,>=7.0.2->Spacy) (4.28.1)\n",
            "Requirement already satisfied, skipping upgrade: urllib3<1.25,>=1.21.1 in /usr/local/lib/python3.6/dist-packages (from requests<3.0.0,>=2.13.0->Spacy) (1.24.3)\n",
            "Requirement already satisfied, skipping upgrade: idna<2.9,>=2.5 in /usr/local/lib/python3.6/dist-packages (from requests<3.0.0,>=2.13.0->Spacy) (2.8)\n",
            "Requirement already satisfied, skipping upgrade: certifi>=2017.4.17 in /usr/local/lib/python3.6/dist-packages (from requests<3.0.0,>=2.13.0->Spacy) (2019.6.16)\n",
            "Requirement already satisfied, skipping upgrade: chardet<3.1.0,>=3.0.2 in /usr/local/lib/python3.6/dist-packages (from requests<3.0.0,>=2.13.0->Spacy) (3.0.4)\n"
          ],
          "name": "stdout"
        }
      ]
    },
    {
      "cell_type": "code",
      "metadata": {
        "id": "svSXtkWbo5m5",
        "colab_type": "code",
        "outputId": "44fe0b86-eafd-49ac-b0ba-739a68614eab",
        "colab": {
          "base_uri": "https://localhost:8080/",
          "height": 119
        }
      },
      "source": [
        "import spacy.cli\n",
        "spacy.cli.download(\"pt\")"
      ],
      "execution_count": 2,
      "outputs": [
        {
          "output_type": "stream",
          "text": [
            "\u001b[38;5;2m✔ Download and installation successful\u001b[0m\n",
            "You can now load the model via spacy.load('pt_core_news_sm')\n",
            "\u001b[38;5;2m✔ Linking successful\u001b[0m\n",
            "/usr/local/lib/python3.6/dist-packages/pt_core_news_sm -->\n",
            "/usr/local/lib/python3.6/dist-packages/spacy/data/pt\n",
            "You can now load the model via spacy.load('pt')\n"
          ],
          "name": "stdout"
        }
      ]
    },
    {
      "cell_type": "code",
      "metadata": {
        "id": "TmQAaSnRpBEO",
        "colab_type": "code",
        "outputId": "af8bcfcf-7991-4cea-9731-edda14fa8313",
        "colab": {
          "base_uri": "https://localhost:8080/",
          "height": 119
        }
      },
      "source": [
        "import spacy.cli\n",
        "spacy.cli.download(\"en\")"
      ],
      "execution_count": 3,
      "outputs": [
        {
          "output_type": "stream",
          "text": [
            "\u001b[38;5;2m✔ Download and installation successful\u001b[0m\n",
            "You can now load the model via spacy.load('en_core_web_sm')\n",
            "\u001b[38;5;2m✔ Linking successful\u001b[0m\n",
            "/usr/local/lib/python3.6/dist-packages/en_core_web_sm -->\n",
            "/usr/local/lib/python3.6/dist-packages/spacy/data/en\n",
            "You can now load the model via spacy.load('en')\n"
          ],
          "name": "stdout"
        }
      ]
    },
    {
      "cell_type": "code",
      "metadata": {
        "id": "_JNiyuqArdav",
        "colab_type": "code",
        "colab": {}
      },
      "source": [
        "nlp = spacy.load('pt')\n",
        "texto = nlp('Olá mundo. Classica Frase no mundo da computação')"
      ],
      "execution_count": 0,
      "outputs": []
    },
    {
      "cell_type": "code",
      "metadata": {
        "id": "kHQzWnOqvCs2",
        "colab_type": "code",
        "outputId": "6a287cd9-3e48-496f-cc03-dfbc7db79300",
        "colab": {
          "base_uri": "https://localhost:8080/",
          "height": 34
        }
      },
      "source": [
        "texto"
      ],
      "execution_count": 5,
      "outputs": [
        {
          "output_type": "execute_result",
          "data": {
            "text/plain": [
              "Olá mundo. Classica Frase no mundo da computação"
            ]
          },
          "metadata": {
            "tags": []
          },
          "execution_count": 5
        }
      ]
    },
    {
      "cell_type": "code",
      "metadata": {
        "id": "H3-EVWQqvJQr",
        "colab_type": "code",
        "outputId": "f9d27b65-0bb1-4f40-d0de-3ed91db2c5b4",
        "colab": {
          "base_uri": "https://localhost:8080/",
          "height": 34
        }
      },
      "source": [
        "type(texto)"
      ],
      "execution_count": 6,
      "outputs": [
        {
          "output_type": "execute_result",
          "data": {
            "text/plain": [
              "spacy.tokens.doc.Doc"
            ]
          },
          "metadata": {
            "tags": []
          },
          "execution_count": 6
        }
      ]
    },
    {
      "cell_type": "code",
      "metadata": {
        "id": "C-qiX4fevNiw",
        "colab_type": "code",
        "outputId": "218655b3-0b61-4054-af6c-f26189df96c7",
        "colab": {
          "base_uri": "https://localhost:8080/",
          "height": 170
        }
      },
      "source": [
        "for token in texto:\n",
        " print (token, token.idx, token.shape_, token.tag_)"
      ],
      "execution_count": 7,
      "outputs": [
        {
          "output_type": "stream",
          "text": [
            "Olá 0 Xxx <np-idf>|N|F|S|@NPHR\n",
            "mundo 4 xxxx <np-idf>|N|M|S|@NPHR\n",
            ". 9 . PU|@PU\n",
            "Classica 11 Xxxxx PROPN\n",
            "Frase 20 Xxxxx PROPN\n",
            "no 26 xx PRP|@N<\n",
            "mundo 29 xxxx NOUN\n",
            "da 35 xx PRP|@N<\n",
            "computação 38 xxxx <np-idf>|N|F|S|@P<\n"
          ],
          "name": "stdout"
        }
      ]
    },
    {
      "cell_type": "code",
      "metadata": {
        "id": "CzUsur_r84UO",
        "colab_type": "code",
        "colab": {}
      },
      "source": [
        "texto2 = nlp('O Rato roeu a roupa do rei de Roma')"
      ],
      "execution_count": 0,
      "outputs": []
    },
    {
      "cell_type": "code",
      "metadata": {
        "id": "bv6Ou9vK9W91",
        "colab_type": "code",
        "outputId": "2d3eda8c-000a-4d1f-d56e-23c69b1ed84c",
        "colab": {
          "base_uri": "https://localhost:8080/",
          "height": 51
        }
      },
      "source": [
        "for texto2 in texto2.ents:\n",
        "  print(texto2.text, texto2.label_)"
      ],
      "execution_count": 9,
      "outputs": [
        {
          "output_type": "stream",
          "text": [
            "Rato LOC\n",
            "Roma LOC\n"
          ],
          "name": "stdout"
        }
      ]
    },
    {
      "cell_type": "code",
      "metadata": {
        "id": "TLvZaBq99lEG",
        "colab_type": "code",
        "colab": {}
      },
      "source": [
        "from spacy import displacy"
      ],
      "execution_count": 0,
      "outputs": []
    },
    {
      "cell_type": "code",
      "metadata": {
        "id": "JtENVUQTCFFQ",
        "colab_type": "code",
        "colab": {}
      },
      "source": [
        "texto3 = nlp('Maria esta se mudando para Paris; No dia 01/02;2019 ela irá partir.')"
      ],
      "execution_count": 0,
      "outputs": []
    },
    {
      "cell_type": "code",
      "metadata": {
        "id": "G_DjuPegCUd9",
        "colab_type": "code",
        "outputId": "3db2fbbe-f1ed-4e35-9f17-dde949cb2de2",
        "colab": {
          "base_uri": "https://localhost:8080/",
          "height": 52
        }
      },
      "source": [
        "displacy.render(texto3, style='ent', jupyter=True)"
      ],
      "execution_count": 12,
      "outputs": [
        {
          "output_type": "display_data",
          "data": {
            "text/html": [
              "<div class=\"entities\" style=\"line-height: 2.5; direction: ltr\">\n",
              "<mark class=\"entity\" style=\"background: #ddd; padding: 0.45em 0.6em; margin: 0 0.25em; line-height: 1; border-radius: 0.35em; box-decoration-break: clone; -webkit-box-decoration-break: clone\">\n",
              "    Maria\n",
              "    <span style=\"font-size: 0.8em; font-weight: bold; line-height: 1; border-radius: 0.35em; text-transform: uppercase; vertical-align: middle; margin-left: 0.5rem\">PER</span>\n",
              "</mark>\n",
              " esta se mudando para \n",
              "<mark class=\"entity\" style=\"background: #ff9561; padding: 0.45em 0.6em; margin: 0 0.25em; line-height: 1; border-radius: 0.35em; box-decoration-break: clone; -webkit-box-decoration-break: clone\">\n",
              "    Paris\n",
              "    <span style=\"font-size: 0.8em; font-weight: bold; line-height: 1; border-radius: 0.35em; text-transform: uppercase; vertical-align: middle; margin-left: 0.5rem\">LOC</span>\n",
              "</mark>\n",
              "; No dia 01/02;2019 ela irá partir.</div>"
            ],
            "text/plain": [
              "<IPython.core.display.HTML object>"
            ]
          },
          "metadata": {
            "tags": []
          }
        }
      ]
    },
    {
      "cell_type": "code",
      "metadata": {
        "id": "11-hShffCjTG",
        "colab_type": "code",
        "outputId": "8fbfcd52-6dbf-4345-ba9e-b09d7b08086d",
        "colab": {
          "base_uri": "https://localhost:8080/",
          "height": 34
        }
      },
      "source": [
        "spacy.explain('PER')"
      ],
      "execution_count": 13,
      "outputs": [
        {
          "output_type": "execute_result",
          "data": {
            "text/plain": [
              "'Named person or family.'"
            ]
          },
          "metadata": {
            "tags": []
          },
          "execution_count": 13
        }
      ]
    },
    {
      "cell_type": "code",
      "metadata": {
        "id": "xpmqMh5oC49d",
        "colab_type": "code",
        "outputId": "ff42a78e-4b01-4380-8863-e760f4ad54b9",
        "colab": {
          "base_uri": "https://localhost:8080/",
          "height": 52
        }
      },
      "source": [
        "texto4 = nlp('Data de Nascimento:  01/02;2019 .')\n",
        "displacy.render(texto4, style='ent', jupyter=True)"
      ],
      "execution_count": 20,
      "outputs": [
        {
          "output_type": "display_data",
          "data": {
            "text/html": [
              "<div class=\"entities\" style=\"line-height: 2.5; direction: ltr\">Data \n",
              "<mark class=\"entity\" style=\"background: #bfe1d9; padding: 0.45em 0.6em; margin: 0 0.25em; line-height: 1; border-radius: 0.35em; box-decoration-break: clone; -webkit-box-decoration-break: clone\">\n",
              "    de\n",
              "    <span style=\"font-size: 0.8em; font-weight: bold; line-height: 1; border-radius: 0.35em; text-transform: uppercase; vertical-align: middle; margin-left: 0.5rem\">DATE</span>\n",
              "</mark>\n",
              " Nascimento:  01/02;2019 .</div>"
            ],
            "text/plain": [
              "<IPython.core.display.HTML object>"
            ]
          },
          "metadata": {
            "tags": []
          }
        }
      ]
    },
    {
      "cell_type": "code",
      "metadata": {
        "id": "XlWt4ZSODJsJ",
        "colab_type": "code",
        "outputId": "3723c9a9-5fa9-4fad-c1e8-1e7cdd9d0c08",
        "colab": {
          "base_uri": "https://localhost:8080/",
          "height": 52
        }
      },
      "source": [
        "texto5 = nlp('No dia  01/02;2019 a Joana foi aprovada no vestibular.')\n",
        "displacy.render(texto5, style='ent', jupyter=True)"
      ],
      "execution_count": 19,
      "outputs": [
        {
          "output_type": "display_data",
          "data": {
            "text/html": [
              "<div class=\"entities\" style=\"line-height: 2.5; direction: ltr\">No dia  01/02;2019 a Joana foi aprovada no vestibular\n",
              "<mark class=\"entity\" style=\"background: #bfe1d9; padding: 0.45em 0.6em; margin: 0 0.25em; line-height: 1; border-radius: 0.35em; box-decoration-break: clone; -webkit-box-decoration-break: clone\">\n",
              "    .\n",
              "    <span style=\"font-size: 0.8em; font-weight: bold; line-height: 1; border-radius: 0.35em; text-transform: uppercase; vertical-align: middle; margin-left: 0.5rem\">DATE</span>\n",
              "</mark>\n",
              "</div>"
            ],
            "text/plain": [
              "<IPython.core.display.HTML object>"
            ]
          },
          "metadata": {
            "tags": []
          }
        }
      ]
    },
    {
      "cell_type": "markdown",
      "metadata": {
        "id": "CUx4bh6PTWCx",
        "colab_type": "text"
      },
      "source": [
        "https://drive.google.com/file/d/1SEgupBrtlVo2BptMf_1JfNrMp21Vvunz/view\n",
        "\n",
        "Não esta funcionando da maneira correta !!!"
      ]
    },
    {
      "cell_type": "code",
      "metadata": {
        "id": "GW6LL1azDv1X",
        "colab_type": "code",
        "outputId": "48673a14-2965-4d0f-b063-985cce4d2c61",
        "colab": {
          "base_uri": "https://localhost:8080/",
          "height": 1000
        }
      },
      "source": [
        "!python3 train_ner.py -m pt -o modelo_davi.md"
      ],
      "execution_count": 17,
      "outputs": [
        {
          "output_type": "stream",
          "text": [
            "Loaded model 'pt'\n",
            "Losses {'ner': 59.60999885201454}\n",
            "Losses {'ner': 60.47568288445473}\n",
            "Losses {'ner': 62.30696630477905}\n",
            "Losses {'ner': 58.50023066997528}\n",
            "Losses {'ner': 67.04614987969398}\n",
            "Losses {'ner': 70.09170123934746}\n",
            "Losses {'ner': 63.64651287253946}\n",
            "Losses {'ner': 61.05320157110691}\n",
            "Losses {'ner': 74.65409069508314}\n",
            "Losses {'ner': 72.70560884475708}\n",
            "Losses {'ner': 63.070703041355955}\n",
            "Losses {'ner': 65.2431817650795}\n",
            "Losses {'ner': 62.811699129641056}\n",
            "Losses {'ner': 70.4876779615879}\n",
            "Losses {'ner': 64.74967942759395}\n",
            "Losses {'ner': 64.94799462706717}\n",
            "Losses {'ner': 71.78325115982443}\n",
            "Losses {'ner': 70.76228886842728}\n",
            "Losses {'ner': 74.50373464822769}\n",
            "Losses {'ner': 65.28616322577}\n",
            "Losses {'ner': 63.72138786315918}\n",
            "Losses {'ner': 67.19248223304749}\n",
            "Losses {'ner': 64.36995540559292}\n",
            "Losses {'ner': 66.21259278059006}\n",
            "Losses {'ner': 68.76774364709854}\n",
            "Losses {'ner': 62.69054420851171}\n",
            "Losses {'ner': 64.6465343311429}\n",
            "Losses {'ner': 64.70523943006992}\n",
            "Losses {'ner': 62.96953195333481}\n",
            "Losses {'ner': 67.87445747852325}\n",
            "Losses {'ner': 73.67016190290451}\n",
            "Losses {'ner': 58.732321175630204}\n",
            "Losses {'ner': 62.567426349269226}\n",
            "Losses {'ner': 65.02737048268318}\n",
            "Losses {'ner': 66.76211437541497}\n",
            "Losses {'ner': 74.70532560348511}\n",
            "Losses {'ner': 62.85488474369049}\n",
            "Losses {'ner': 58.60731599551832}\n",
            "Losses {'ner': 61.74026072630659}\n",
            "Losses {'ner': 66.93211740255356}\n",
            "Losses {'ner': 69.03047177195549}\n",
            "Losses {'ner': 65.54718813300133}\n",
            "Losses {'ner': 72.89299011230469}\n",
            "Losses {'ner': 58.61766821146011}\n",
            "Losses {'ner': 63.94512647483498}\n",
            "Losses {'ner': 65.67805977612748}\n",
            "Losses {'ner': 63.167668521404266}\n",
            "Losses {'ner': 69.28769388049841}\n",
            "Losses {'ner': 65.4230303007185}\n",
            "Losses {'ner': 60.6348594725132}\n",
            "Losses {'ner': 66.9712433218956}\n",
            "Losses {'ner': 61.429775777353456}\n",
            "Losses {'ner': 73.78938081860542}\n",
            "Losses {'ner': 53.489626944065094}\n",
            "Losses {'ner': 65.94427663087845}\n",
            "Losses {'ner': 63.0540756881237}\n",
            "Losses {'ner': 64.85944366455078}\n",
            "Losses {'ner': 60.07178796827793}\n",
            "Losses {'ner': 62.3242911696434}\n",
            "Losses {'ner': 57.872222747071646}\n",
            "Losses {'ner': 68.37792827514932}\n",
            "Losses {'ner': 54.59109807014465}\n",
            "Losses {'ner': 68.83831995725632}\n",
            "Losses {'ner': 66.37169414758682}\n",
            "Losses {'ner': 59.69631505385041}\n",
            "Losses {'ner': 70.72247409820557}\n",
            "Losses {'ner': 64.10880225236346}\n",
            "Losses {'ner': 62.640306191176464}\n",
            "Losses {'ner': 65.21837856619715}\n",
            "Losses {'ner': 62.171909272670746}\n",
            "Losses {'ner': 66.33890879154205}\n",
            "Losses {'ner': 64.23134949167294}\n",
            "Losses {'ner': 57.34946859627962}\n",
            "Losses {'ner': 64.10565104871057}\n",
            "Losses {'ner': 57.73397159576416}\n",
            "Losses {'ner': 65.27943301200867}\n",
            "Losses {'ner': 66.28635758161545}\n",
            "Losses {'ner': 64.42962336540222}\n",
            "Losses {'ner': 64.21762932012643}\n",
            "Losses {'ner': 66.48777067172341}\n",
            "Losses {'ner': 56.51867550611496}\n",
            "Losses {'ner': 68.97373555648063}\n",
            "Losses {'ner': 57.47902185443826}\n",
            "Losses {'ner': 62.14327973151124}\n",
            "Losses {'ner': 68.33553096652031}\n",
            "Losses {'ner': 65.7585913836956}\n",
            "Losses {'ner': 65.36099016257958}\n",
            "Losses {'ner': 65.58632653951645}\n",
            "Losses {'ner': 60.290240943431854}\n",
            "Losses {'ner': 69.21699604392052}\n",
            "Losses {'ner': 63.87327548695612}\n",
            "Losses {'ner': 60.890042804451795}\n",
            "Losses {'ner': 64.65664881467819}\n",
            "Losses {'ner': 67.53431785106659}\n",
            "Losses {'ner': 63.26863294839859}\n",
            "Losses {'ner': 65.00530804833397}\n",
            "Losses {'ner': 66.6755730509758}\n",
            "Losses {'ner': 60.52256306275831}\n",
            "Losses {'ner': 67.39296650886536}\n",
            "Losses {'ner': 66.3187745809555}\n",
            "Entities [('07/05/2019', 'DATE')]\n",
            "Tokens [('A', '', 2), ('data', '', 2), ('da', '', 2), ('festa', '', 2), ('foi', '', 2), ('07/05/2019', 'DATE', 3)]\n",
            "Entities [('10/01/2019', 'DATE')]\n",
            "Tokens [('Data', '', 2), ('de', '', 2), ('Prisão', '', 2), (':', '', 2), ('10/01/2019', 'DATE', 3)]\n",
            "Entities [('João', 'DATE'), ('Bahia', 'DATE')]\n",
            "Tokens [('João', 'DATE', 3), ('foi', '', 2), ('para', '', 2), ('a', '', 2), ('Bahia', 'DATE', 3), ('nas', '', 2), ('férias', '', 2)]\n",
            "Entities [('praia', 'DATE')]\n",
            "Tokens [('Fulano', '', 2), ('vou', '', 2), ('visitar', '', 2), ('João', '', 2), ('na', '', 2), ('casa', '', 2), ('de', '', 2), ('praia', 'DATE', 3)]\n",
            "Entities []\n",
            "Tokens [('Em', '', 2), ('12/05/2019', '', 2), ('nasceu', '', 2), ('essa', '', 2), ('linda', '', 2), ('criança', '', 2)]\n",
            "Entities []\n",
            "Tokens [('No', '', 2), ('dia', '', 2), ('01/02/2016', '', 2), ('foi', '', 2), ('decretada', '', 2), ('a', '', 2), ('sentença', '', 2)]\n",
            "Entities [('irmão', 'DATE')]\n",
            "Tokens [('O', '', 2), ('Sonho', '', 2), ('d', '', 2), ('ela', '', 2), ('era', '', 2), ('ir', '', 2), ('para', '', 2), ('Austrália', '', 2), ('visitar', '', 2), ('seu', '', 2), ('irmão', 'DATE', 3)]\n",
            "Entities [('uma', 'DATE')]\n",
            "Tokens [('Almira', '', 2), ('é', '', 2), ('uma', 'DATE', 3), ('ótima', '', 2), ('pessoa', '', 2), ('.', '', 2)]\n",
            "Entities []\n",
            "Tokens [('No', '', 2), ('meio', '', 2), ('do', '', 2), ('ano', '', 2), ('irei', '', 2), ('para', '', 2), ('São', '', 2), ('Paulo', '', 2), ('fazer', '', 2), ('mais', '', 2), ('um', '', 2), ('curso', '', 2)]\n",
            "Saved model to modelo_davi.md\n",
            "Loading from modelo_davi.md\n",
            "Entities [('07/05/2019', 'DATE')]\n",
            "Tokens [('A', '', 2), ('data', '', 2), ('da', '', 2), ('festa', '', 2), ('foi', '', 2), ('07/05/2019', 'DATE', 3)]\n",
            "Entities [('10/01/2019', 'DATE')]\n",
            "Tokens [('Data', '', 2), ('de', '', 2), ('Prisão', '', 2), (':', '', 2), ('10/01/2019', 'DATE', 3)]\n",
            "Entities [('João', 'DATE'), ('Bahia', 'DATE')]\n",
            "Tokens [('João', 'DATE', 3), ('foi', '', 2), ('para', '', 2), ('a', '', 2), ('Bahia', 'DATE', 3), ('nas', '', 2), ('férias', '', 2)]\n",
            "Entities [('praia', 'DATE')]\n",
            "Tokens [('Fulano', '', 2), ('vou', '', 2), ('visitar', '', 2), ('João', '', 2), ('na', '', 2), ('casa', '', 2), ('de', '', 2), ('praia', 'DATE', 3)]\n",
            "Entities []\n",
            "Tokens [('Em', '', 2), ('12/05/2019', '', 2), ('nasceu', '', 2), ('essa', '', 2), ('linda', '', 2), ('criança', '', 2)]\n",
            "Entities []\n",
            "Tokens [('No', '', 2), ('dia', '', 2), ('01/02/2016', '', 2), ('foi', '', 2), ('decretada', '', 2), ('a', '', 2), ('sentença', '', 2)]\n",
            "Entities [('irmão', 'DATE')]\n",
            "Tokens [('O', '', 2), ('Sonho', '', 2), ('d', '', 2), ('ela', '', 2), ('era', '', 2), ('ir', '', 2), ('para', '', 2), ('Austrália', '', 2), ('visitar', '', 2), ('seu', '', 2), ('irmão', 'DATE', 3)]\n",
            "Entities [('uma', 'DATE')]\n",
            "Tokens [('Almira', '', 2), ('é', '', 2), ('uma', 'DATE', 3), ('ótima', '', 2), ('pessoa', '', 2), ('.', '', 2)]\n",
            "Entities []\n",
            "Tokens [('No', '', 2), ('meio', '', 2), ('do', '', 2), ('ano', '', 2), ('irei', '', 2), ('para', '', 2), ('São', '', 2), ('Paulo', '', 2), ('fazer', '', 2), ('mais', '', 2), ('um', '', 2), ('curso', '', 2)]\n"
          ],
          "name": "stdout"
        }
      ]
    },
    {
      "cell_type": "code",
      "metadata": {
        "id": "AdyjYLUXJtKA",
        "colab_type": "code",
        "colab": {}
      },
      "source": [
        "nlp =spacy.load('modelo_davi.md')"
      ],
      "execution_count": 0,
      "outputs": []
    },
    {
      "cell_type": "code",
      "metadata": {
        "id": "irsWC1OAO6KB",
        "colab_type": "code",
        "colab": {}
      },
      "source": [
        ""
      ],
      "execution_count": 0,
      "outputs": []
    }
  ]
}