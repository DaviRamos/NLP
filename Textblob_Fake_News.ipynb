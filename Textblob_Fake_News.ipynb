{
  "nbformat": 4,
  "nbformat_minor": 0,
  "metadata": {
    "colab": {
      "name": "Textblob_Fake_News.ipynb",
      "version": "0.3.2",
      "provenance": [],
      "toc_visible": true,
      "include_colab_link": true
    },
    "language_info": {
      "codemirror_mode": {
        "name": "ipython",
        "version": 3
      },
      "file_extension": ".py",
      "mimetype": "text/x-python",
      "name": "python",
      "nbconvert_exporter": "python",
      "pygments_lexer": "ipython3",
      "version": "3.6.5"
    },
    "kernelspec": {
      "display_name": "Python 3",
      "language": "python",
      "name": "python3"
    }
  },
  "cells": [
    {
      "cell_type": "markdown",
      "metadata": {
        "id": "view-in-github",
        "colab_type": "text"
      },
      "source": [
        "<a href=\"https://colab.research.google.com/github/DaviRamos/NLP/blob/master/Textblob_Fake_News.ipynb\" target=\"_parent\"><img src=\"https://colab.research.google.com/assets/colab-badge.svg\" alt=\"Open In Colab\"/></a>"
      ]
    },
    {
      "cell_type": "markdown",
      "metadata": {
        "id": "PXUpvLVDUjhR",
        "colab_type": "text"
      },
      "source": [
        "# Instalação do TextBlob"
      ]
    },
    {
      "cell_type": "code",
      "metadata": {
        "id": "hetJDY3RUjhS",
        "colab_type": "code",
        "colab": {
          "base_uri": "https://localhost:8080/",
          "height": 68
        },
        "outputId": "dcd76343-f013-4df8-e81d-ea85ec3d7b7e"
      },
      "source": [
        "!pip install textblob"
      ],
      "execution_count": 1,
      "outputs": [
        {
          "output_type": "stream",
          "text": [
            "Requirement already satisfied: textblob in /usr/local/lib/python3.6/dist-packages (0.15.3)\n",
            "Requirement already satisfied: nltk>=3.1 in /usr/local/lib/python3.6/dist-packages (from textblob) (3.2.5)\n",
            "Requirement already satisfied: six in /usr/local/lib/python3.6/dist-packages (from nltk>=3.1->textblob) (1.12.0)\n"
          ],
          "name": "stdout"
        }
      ]
    },
    {
      "cell_type": "markdown",
      "metadata": {
        "id": "KS7dbK3DUjhY",
        "colab_type": "text"
      },
      "source": [
        "** Baixando a base de dados**"
      ]
    },
    {
      "cell_type": "code",
      "metadata": {
        "id": "WXf-VvXuUjhZ",
        "colab_type": "code",
        "colab": {
          "base_uri": "https://localhost:8080/",
          "height": 255
        },
        "outputId": "2cfc07fb-3cda-4b2c-b2f2-0de8038c4cc3"
      },
      "source": [
        "!python -m textblob.download_corpora"
      ],
      "execution_count": 2,
      "outputs": [
        {
          "output_type": "stream",
          "text": [
            "[nltk_data] Downloading package brown to /root/nltk_data...\n",
            "[nltk_data]   Unzipping corpora/brown.zip.\n",
            "[nltk_data] Downloading package punkt to /root/nltk_data...\n",
            "[nltk_data]   Unzipping tokenizers/punkt.zip.\n",
            "[nltk_data] Downloading package wordnet to /root/nltk_data...\n",
            "[nltk_data]   Unzipping corpora/wordnet.zip.\n",
            "[nltk_data] Downloading package averaged_perceptron_tagger to\n",
            "[nltk_data]     /root/nltk_data...\n",
            "[nltk_data]   Unzipping taggers/averaged_perceptron_tagger.zip.\n",
            "[nltk_data] Downloading package conll2000 to /root/nltk_data...\n",
            "[nltk_data]   Unzipping corpora/conll2000.zip.\n",
            "[nltk_data] Downloading package movie_reviews to /root/nltk_data...\n",
            "[nltk_data]   Unzipping corpora/movie_reviews.zip.\n",
            "Finished.\n"
          ],
          "name": "stdout"
        }
      ]
    },
    {
      "cell_type": "markdown",
      "metadata": {
        "id": "P_sCgm2_Ujhf",
        "colab_type": "text"
      },
      "source": [
        "**Importando a Biblioteca**"
      ]
    },
    {
      "cell_type": "code",
      "metadata": {
        "id": "n_Iy1BMAUjhf",
        "colab_type": "code",
        "colab": {}
      },
      "source": [
        "from textblob import TextBlob\n",
        "import pandas as pd"
      ],
      "execution_count": 0,
      "outputs": []
    },
    {
      "cell_type": "markdown",
      "metadata": {
        "id": "uTaAKWNRUjhj",
        "colab_type": "text"
      },
      "source": [
        "**Trabalhando com uma sentença de exemplo**"
      ]
    },
    {
      "cell_type": "code",
      "metadata": {
        "id": "_NZh0EorUjhl",
        "colab_type": "code",
        "colab": {}
      },
      "source": [
        "frase = TextBlob(\"Eleicoes no Brasil causa tumulto e serão anuladas\")"
      ],
      "execution_count": 0,
      "outputs": []
    },
    {
      "cell_type": "code",
      "metadata": {
        "id": "1gxhFmB7Ujho",
        "colab_type": "code",
        "colab": {
          "base_uri": "https://localhost:8080/",
          "height": 34
        },
        "outputId": "49fdfa5c-0e4c-4bd2-eaab-94d607fd1869"
      },
      "source": [
        "type(frase)"
      ],
      "execution_count": 5,
      "outputs": [
        {
          "output_type": "execute_result",
          "data": {
            "text/plain": [
              "textblob.blob.TextBlob"
            ]
          },
          "metadata": {
            "tags": []
          },
          "execution_count": 5
        }
      ]
    },
    {
      "cell_type": "markdown",
      "metadata": {
        "id": "PeHNZd5hUjhu",
        "colab_type": "text"
      },
      "source": [
        "** tokens **"
      ]
    },
    {
      "cell_type": "code",
      "metadata": {
        "id": "36VDWLp6Ujhv",
        "colab_type": "code",
        "colab": {
          "base_uri": "https://localhost:8080/",
          "height": 34
        },
        "outputId": "3c8c493f-c498-4b97-fd45-8445cd8a6a1d"
      },
      "source": [
        "frase.tokens"
      ],
      "execution_count": 6,
      "outputs": [
        {
          "output_type": "execute_result",
          "data": {
            "text/plain": [
              "WordList(['Eleicoes', 'no', 'Brasil', 'causa', 'tumulto', 'e', 'serão', 'anuladas'])"
            ]
          },
          "metadata": {
            "tags": []
          },
          "execution_count": 6
        }
      ]
    },
    {
      "cell_type": "markdown",
      "metadata": {
        "id": "ZbOekpfjUjhx",
        "colab_type": "text"
      },
      "source": [
        "** Tokenização e Sentenças**"
      ]
    },
    {
      "cell_type": "code",
      "metadata": {
        "id": "5ubk69KWUjhy",
        "colab_type": "code",
        "colab": {}
      },
      "source": [
        "sentencas = TextBlob(\"O capitão américa aparece sobrevoando São Paulo e diz que irá se candidatar. \"\n",
        "                     \"A polarização da população gera guerra civil.\"\n",
        "                     \"O Chaves se pronuncia e diz está indignado com tanta mentira.\")"
      ],
      "execution_count": 0,
      "outputs": []
    },
    {
      "cell_type": "markdown",
      "metadata": {
        "id": "m2FWrCvNUjh0",
        "colab_type": "text"
      },
      "source": [
        "** Sentenças**"
      ]
    },
    {
      "cell_type": "code",
      "metadata": {
        "id": "0XqfCctEUjh0",
        "colab_type": "code",
        "colab": {
          "base_uri": "https://localhost:8080/",
          "height": 51
        },
        "outputId": "64861652-d3c0-4ae5-c4c3-b57ffe5655e6"
      },
      "source": [
        "for i in sentencas.sentences:\n",
        "    print (i)"
      ],
      "execution_count": 9,
      "outputs": [
        {
          "output_type": "stream",
          "text": [
            "O capitão américa aparece sobrevoando São Paulo e diz que irá se candidatar.\n",
            "A polarização da população gera guerra civil.O Chaves se pronuncia e diz está indignado com tanta mentira.\n"
          ],
          "name": "stdout"
        }
      ]
    },
    {
      "cell_type": "markdown",
      "metadata": {
        "id": "k3ZM3GG_Ujh5",
        "colab_type": "text"
      },
      "source": [
        "** Tradução de Sentenças**"
      ]
    },
    {
      "cell_type": "code",
      "metadata": {
        "id": "xJu-iA6BUjh5",
        "colab_type": "code",
        "colab": {
          "base_uri": "https://localhost:8080/",
          "height": 34
        },
        "outputId": "9b40b842-bd41-4fbf-ad42-021c50a6ea5f"
      },
      "source": [
        "frase_ingles = TextBlob(u'O capitão américa aparece sobrevoando São Paulo e diz que irá se candidatar')\n",
        "frase_ingles.translate(from_lang='pt', to='en')"
      ],
      "execution_count": 10,
      "outputs": [
        {
          "output_type": "execute_result",
          "data": {
            "text/plain": [
              "TextBlob(\"The captain of america appears flying over São Paulo and says he will run for\")"
            ]
          },
          "metadata": {
            "tags": []
          },
          "execution_count": 10
        }
      ]
    },
    {
      "cell_type": "code",
      "metadata": {
        "id": "uyXGsUT-Ujh-",
        "colab_type": "code",
        "colab": {
          "base_uri": "https://localhost:8080/",
          "height": 34
        },
        "outputId": "246f8588-9111-4c9c-ff2c-318325afed58"
      },
      "source": [
        "frase_ingles = TextBlob(u'A polarização da população gera guerra civil')\n",
        "frase_ingles.translate(from_lang='pt', to='en')"
      ],
      "execution_count": 12,
      "outputs": [
        {
          "output_type": "execute_result",
          "data": {
            "text/plain": [
              "TextBlob(\"The polarization of the population generates civil war\")"
            ]
          },
          "metadata": {
            "tags": []
          },
          "execution_count": 12
        }
      ]
    },
    {
      "cell_type": "code",
      "metadata": {
        "id": "bpq9ymYtUjiA",
        "colab_type": "code",
        "colab": {
          "base_uri": "https://localhost:8080/",
          "height": 34
        },
        "outputId": "2b98b8e0-b768-479b-a7f4-d4c783aace69"
      },
      "source": [
        "frase_ingles = TextBlob(u'O Chaves se pronuncia e diz está indignado com tanta mentira.')\n",
        "frase_ingles.translate(from_lang='pt', to='en')"
      ],
      "execution_count": 13,
      "outputs": [
        {
          "output_type": "execute_result",
          "data": {
            "text/plain": [
              "TextBlob(\"The Chaves pronounces and says he is outraged by such a lie.\")"
            ]
          },
          "metadata": {
            "tags": []
          },
          "execution_count": 13
        }
      ]
    },
    {
      "cell_type": "markdown",
      "metadata": {
        "id": "2_A0UgXyUjiE",
        "colab_type": "text"
      },
      "source": [
        "** Classificando textos**"
      ]
    },
    {
      "cell_type": "code",
      "metadata": {
        "id": "ANWMLWDtUjiF",
        "colab_type": "code",
        "colab": {}
      },
      "source": [
        "news = pd.read_csv('news.csv', sep=';', header=None)"
      ],
      "execution_count": 0,
      "outputs": []
    },
    {
      "cell_type": "code",
      "metadata": {
        "id": "FMAJ5Rk6UjiH",
        "colab_type": "code",
        "colab": {
          "base_uri": "https://localhost:8080/",
          "height": 442
        },
        "outputId": "ec4c503f-da4c-45cd-cdaa-72f17e2621b7"
      },
      "source": [
        "news.values"
      ],
      "execution_count": 15,
      "outputs": [
        {
          "output_type": "execute_result",
          "data": {
            "text/plain": [
              "array([['O capitão américa aparece sobrevoando São Paulo e diz que irá se candidatar',\n",
              "        'verdadeiro'],\n",
              "       ['A polarização da população gera guerra civil', 'fake_news'],\n",
              "       ['O Chaves se pronuncia e diz está indignado com tanta mentira.',\n",
              "        'verdadeiro'],\n",
              "       ['Morte do precidenciavel X por acidente de aviao', 'verdadeiro'],\n",
              "       ['Monumento de Brasilia é atacado por manifestantes e eleicoes seráo canceladas',\n",
              "        'fake_news'],\n",
              "       ['Novo presidente se diz confiante para governar o pais',\n",
              "        'verdadeiro'],\n",
              "       ['Jair Bolsonaro sobe no ranking de rejeicao no nordeste',\n",
              "        'verdadeiro'],\n",
              "       ['Haddad melhora nas pesquisas apos apoio de Lula', 'verdadeiro'],\n",
              "       ['Disputa no segundo turno está cada vez mais acirrada entre os extremos',\n",
              "        'verdadeiro'],\n",
              "       ['Amoedo declara apoio ao PT', 'fake_news'],\n",
              "       ['Manifestantes em Sao Paulo param avenida pedem intervençao militar!',\n",
              "        'fake_news'],\n",
              "       ['Padre Marcelo Rossi diz que irá se candidatar a presidencia',\n",
              "        'fake_news'],\n",
              "       ['Ex presidente Lula consegue habeas Corpus e pode ser candidato',\n",
              "        'fake_news'],\n",
              "       ['Presidente temmer declara apoio ao partido NOVO', 'fake_news'],\n",
              "       ['Mourao declara que é contra o 13 salario e adiantamento de férias de funcionários',\n",
              "        'verdadeiro']], dtype=object)"
            ]
          },
          "metadata": {
            "tags": []
          },
          "execution_count": 15
        }
      ]
    },
    {
      "cell_type": "code",
      "metadata": {
        "id": "uJtTxgQlUjiO",
        "colab_type": "code",
        "colab": {}
      },
      "source": [
        "from textblob.classifiers import NaiveBayesClassifier\n",
        "clf = NaiveBayesClassifier(news.values, format=\"csv\")"
      ],
      "execution_count": 0,
      "outputs": []
    },
    {
      "cell_type": "code",
      "metadata": {
        "id": "gPg2JaNMUjiQ",
        "colab_type": "code",
        "colab": {
          "base_uri": "https://localhost:8080/",
          "height": 34
        },
        "outputId": "9997b218-0921-4ff0-c9b2-213237132c24"
      },
      "source": [
        "clf.classify('Presidente Temmer declara apoio a candidato do PSDB')"
      ],
      "execution_count": 17,
      "outputs": [
        {
          "output_type": "execute_result",
          "data": {
            "text/plain": [
              "'fake_news'"
            ]
          },
          "metadata": {
            "tags": []
          },
          "execution_count": 17
        }
      ]
    },
    {
      "cell_type": "code",
      "metadata": {
        "id": "5YdwfFPNUjiV",
        "colab_type": "code",
        "colab": {
          "base_uri": "https://localhost:8080/",
          "height": 34
        },
        "outputId": "5c456d5d-d61d-48ee-f2f8-6f077daa261e"
      },
      "source": [
        "clf.classify('Disputa entre presidenciais sera mesmo no segundo turno')"
      ],
      "execution_count": 18,
      "outputs": [
        {
          "output_type": "execute_result",
          "data": {
            "text/plain": [
              "'verdadeiro'"
            ]
          },
          "metadata": {
            "tags": []
          },
          "execution_count": 18
        }
      ]
    },
    {
      "cell_type": "markdown",
      "metadata": {
        "id": "tGgqHMiBUjib",
        "colab_type": "text"
      },
      "source": [
        "** Distribuicao das Probabilidades**"
      ]
    },
    {
      "cell_type": "code",
      "metadata": {
        "id": "ulqWhtb9Ujie",
        "colab_type": "code",
        "colab": {}
      },
      "source": [
        "dist_prob = clf.prob_classify('Padre Marcelo Rossi se pronuncia e diz que irá se candidatar')"
      ],
      "execution_count": 0,
      "outputs": []
    },
    {
      "cell_type": "code",
      "metadata": {
        "id": "aOrDRBiCUjih",
        "colab_type": "code",
        "colab": {
          "base_uri": "https://localhost:8080/",
          "height": 34
        },
        "outputId": "83155974-6274-46e6-c408-3ee8d0b66b24"
      },
      "source": [
        "dist_prob.prob('fake_news')"
      ],
      "execution_count": 20,
      "outputs": [
        {
          "output_type": "execute_result",
          "data": {
            "text/plain": [
              "0.8336538270304792"
            ]
          },
          "metadata": {
            "tags": []
          },
          "execution_count": 20
        }
      ]
    },
    {
      "cell_type": "code",
      "metadata": {
        "id": "txadAY2LUjik",
        "colab_type": "code",
        "colab": {
          "base_uri": "https://localhost:8080/",
          "height": 34
        },
        "outputId": "5c8c3aac-3ee5-454e-9b08-c8c1deec0808"
      },
      "source": [
        "dist_prob.prob('verdadeiro')"
      ],
      "execution_count": 23,
      "outputs": [
        {
          "output_type": "execute_result",
          "data": {
            "text/plain": [
              "0.1663461729695183"
            ]
          },
          "metadata": {
            "tags": []
          },
          "execution_count": 23
        }
      ]
    },
    {
      "cell_type": "code",
      "metadata": {
        "id": "lGqjoiIGUjin",
        "colab_type": "code",
        "colab": {
          "base_uri": "https://localhost:8080/",
          "height": 34
        },
        "outputId": "67e2d691-3201-4f15-b7f2-0e8928bde1a3"
      },
      "source": [
        "dist_prob.max()"
      ],
      "execution_count": 25,
      "outputs": [
        {
          "output_type": "execute_result",
          "data": {
            "text/plain": [
              "'fake_news'"
            ]
          },
          "metadata": {
            "tags": []
          },
          "execution_count": 25
        }
      ]
    },
    {
      "cell_type": "markdown",
      "metadata": {
        "id": "XO9g5bl-Ujit",
        "colab_type": "text"
      },
      "source": [
        "**Avaliando o classificador**"
      ]
    },
    {
      "cell_type": "code",
      "metadata": {
        "id": "TgTyQ2xIUjiu",
        "colab_type": "code",
        "colab": {}
      },
      "source": [
        "validacao = [\n",
        "     ('O governo temmer propoe reforma trabalhista', 'verdadeiro'),\n",
        "     ('Capitão america é visto em campanha eleitoral do partido NOVO', 'fake_news'),\n",
        "     (\"Lula é solto essa madrugada\", 'fake_news'),\n",
        "     (\"Jair Bolsonaro melhora nas pesquisas após atentado.\", 'verdadeiro')\n",
        "]"
      ],
      "execution_count": 0,
      "outputs": []
    },
    {
      "cell_type": "markdown",
      "metadata": {
        "id": "EWXHKObWUjiz",
        "colab_type": "text"
      },
      "source": [
        "** Acurácia**"
      ]
    },
    {
      "cell_type": "code",
      "metadata": {
        "id": "F3Ud-nL2Uji0",
        "colab_type": "code",
        "colab": {
          "base_uri": "https://localhost:8080/",
          "height": 34
        },
        "outputId": "b0e3e7b5-ea98-4037-b9ef-c9e0fe85ca4d"
      },
      "source": [
        "clf.accuracy(validacao)"
      ],
      "execution_count": 27,
      "outputs": [
        {
          "output_type": "execute_result",
          "data": {
            "text/plain": [
              "0.75"
            ]
          },
          "metadata": {
            "tags": []
          },
          "execution_count": 27
        }
      ]
    },
    {
      "cell_type": "code",
      "metadata": {
        "id": "WFhMd6o1Uji4",
        "colab_type": "code",
        "colab": {
          "base_uri": "https://localhost:8080/",
          "height": 85
        },
        "outputId": "0b8457f8-cc00-416a-8981-698492ceb67f"
      },
      "source": [
        "for i in validacao:\n",
        "    print (i[0], clf.classify(i[0]))"
      ],
      "execution_count": 28,
      "outputs": [
        {
          "output_type": "stream",
          "text": [
            "O governo temmer propoe reforma trabalhista fake_news\n",
            "Capitão america é visto em campanha eleitoral do partido NOVO fake_news\n",
            "Lula é solto essa madrugada fake_news\n",
            "Jair Bolsonaro melhora nas pesquisas após atentado. verdadeiro\n"
          ],
          "name": "stdout"
        }
      ]
    },
    {
      "cell_type": "markdown",
      "metadata": {
        "id": "MiOhIhKZUji7",
        "colab_type": "text"
      },
      "source": [
        "** Features Mais informativas**"
      ]
    },
    {
      "cell_type": "code",
      "metadata": {
        "id": "JMe8pBS-Uji8",
        "colab_type": "code",
        "colab": {
          "base_uri": "https://localhost:8080/",
          "height": 204
        },
        "outputId": "48064c93-a859-415a-ea33-a2739a9148d9"
      },
      "source": [
        "clf.show_informative_features()"
      ],
      "execution_count": 29,
      "outputs": [
        {
          "output_type": "stream",
          "text": [
            "Most Informative Features\n",
            "            contains(de) = True           verdad : fake_n =      2.7 : 1.0\n",
            "            contains(se) = True           verdad : fake_n =      2.1 : 1.0\n",
            "           contains(diz) = True           verdad : fake_n =      2.1 : 1.0\n",
            "         contains(apoio) = True           fake_n : verdad =      1.9 : 1.0\n",
            "       contains(declara) = True           fake_n : verdad =      1.9 : 1.0\n",
            "            contains(de) = False          fake_n : verdad =      1.6 : 1.0\n",
            "           contains(que) = True           verdad : fake_n =      1.5 : 1.0\n",
            "            contains(ao) = False          verdad : fake_n =      1.4 : 1.0\n",
            "            contains(se) = False          fake_n : verdad =      1.3 : 1.0\n",
            "           contains(diz) = False          fake_n : verdad =      1.3 : 1.0\n"
          ],
          "name": "stdout"
        }
      ]
    }
  ]
}